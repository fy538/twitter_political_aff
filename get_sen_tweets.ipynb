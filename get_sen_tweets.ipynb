{
 "cells": [
  {
   "cell_type": "code",
   "execution_count": 1,
   "metadata": {},
   "outputs": [],
   "source": [
    "import numpy as np\n",
    "import pandas as pd\n",
    "import GetOldTweets3 as got\n",
    "from tqdm import tqdm"
   ]
  },
  {
   "cell_type": "code",
   "execution_count": 2,
   "metadata": {},
   "outputs": [],
   "source": [
    "sen = {'lisamurkowski': 1, \n",
    " 'SenDanSullivan': 1,\n",
    " 'SenDougJones': 0, \n",
    " 'SenShelby': 1,\n",
    " 'JohnBoozman': 1,\n",
    " 'SenTomCotton': 1,\n",
    " 'SenMcSallyAZ': 1,\n",
    " 'SenatorSinema': 1,\n",
    " 'SenFeinstein': 0,\n",
    " 'SenKamalaHarris': 0, \n",
    " 'SenatorBennet': 0,\n",
    " 'SenCoryGardner': 1,\n",
    " 'SenBlumenthal': 0,\n",
    " 'SenMurphyOffice': 0,\n",
    " 'SenatorCarper': 0,\n",
    " 'ChrisCoons': 0,\n",
    " 'SenRubioPress': 1,\n",
    " 'SenRickScott': 1,\n",
    " 'Kloeffler': 1,\n",
    " 'sendavidperdue': 1,\n",
    " 'maziehirono': 0,\n",
    " 'SenBrianSchatz': 0,\n",
    " 'SenJoniErnst': 1,\n",
    " 'ChuckGrassley': 1,\n",
    " 'MikeCrapo': 1,\n",
    " 'SenatorRisch': 1,\n",
    " 'SenDuckworth': 0,\n",
    " 'SenatorDurbin': 0,\n",
    " 'SenatorBraun': 1,\n",
    " 'SenToddYoung': 1,\n",
    " 'JerryMoran': 1,\n",
    " 'SenPatRoberts': 1,\n",
    " 'SenateMajLdr': 1,\n",
    " 'RandPaul': 1,\n",
    " 'SenBillCassidy': 1,\n",
    " 'SenJohnKennedy': 1,\n",
    " 'SenMarkey': 0,\n",
    " 'SenWarren': 0,\n",
    " 'SenatorCardin': 0,\n",
    " 'ChrisVanHollen': 0,\n",
    " 'SenatorCollins': 1,\n",
    " 'SenAngusKing': 0,\n",
    " 'SenGaryPeters': 0,\n",
    " 'SenStabenow': 0,\n",
    " 'SenAmyKlobuchar': 0,\n",
    " 'SenTinaSmith': 0,\n",
    " 'RoyBlunt': 1,\n",
    " 'SenHawleyPress': 1,\n",
    " 'SenHydeSmith': 1,\n",
    " 'SenatorWicker': 1,\n",
    " 'SteveDaines': 1, \n",
    " 'SenatorTester': 0,\n",
    " 'SenatorBurr': 1,\n",
    " 'SenThomTillis': 1,\n",
    " 'SenKevinCramer': 1,\n",
    " 'SenJohnHoeven': 1,\n",
    " 'SenatorFischer': 1,\n",
    " 'SenSasse': 1,\n",
    " 'SenatorHassan': 0,\n",
    " 'SenatorShaheen': 0,\n",
    " 'SenBooker': 0,\n",
    " 'SenatorMenendez': 0,\n",
    " 'MartinHeinrich': 0,\n",
    " 'SenatorTomUdall': 0,\n",
    " 'SenCortezMasto': 0,\n",
    " 'SenJackyRosen': 0,\n",
    " 'gillibrandny': 0,\n",
    " 'SenSchumer': 0,\n",
    " 'SenSherrodBrown': 0,\n",
    " 'senrobportman': 1,\n",
    " 'JimInhofe': 1,\n",
    " 'SenatorLankford': 1,\n",
    " 'SenJeffMerkley': 0,\n",
    " 'RonWyden': 0,\n",
    " 'SenBobCasey': 0,\n",
    " 'SenToomey': 1,\n",
    " 'SenJackReed': 0,\n",
    " 'SenWhitehouse': 0,\n",
    " 'LindseyGrahamSC': 1,\n",
    " 'SenatorTimScott': 1,\n",
    " 'SenatorRounds': 1,\n",
    " 'SenJohnThune': 1,\n",
    " 'SenAlexander': 1,\n",
    " 'MarshaBlackburn': 1,\n",
    " 'JohnCornyn': 1,\n",
    " 'SenTedCruz': 1,\n",
    " 'SenMikeLee': 1,\n",
    " 'SenatorRomney': 1,\n",
    " 'MarkWarner': 0, \n",
    " 'SenatorLeahy': 0,\n",
    " 'SenSanders': 0,\n",
    " 'SenatorCantwell': 0,\n",
    " 'PattyMurray': 0,\n",
    " 'SenatorBaldwin': 0,\n",
    " 'SenRonJohnson': 1,\n",
    " 'SenCapito': 1,\n",
    " 'Sen_JoeManchin': 0,\n",
    " 'SenJohnBarrasso': 1,\n",
    " 'SenatorEnzi': 1\n",
    "      }"
   ]
  },
  {
   "cell_type": "code",
   "execution_count": 3,
   "metadata": {},
   "outputs": [],
   "source": [
    "rep_sen = []\n",
    "dem_sen = []\n",
    "for x, y in sen.items():\n",
    "    if y == 1:\n",
    "        rep_sen.append(x)\n",
    "    else:\n",
    "        dem_sen.append(x)"
   ]
  },
  {
   "cell_type": "code",
   "execution_count": 4,
   "metadata": {},
   "outputs": [
    {
     "name": "stdout",
     "output_type": "stream",
     "text": [
      "total number of senators: 99\n",
      "total number of GOP senators: 54\n",
      "total number of DEM senators: 45\n"
     ]
    }
   ],
   "source": [
    "print(f'total number of senators: {len(sen)}')\n",
    "print(f'total number of GOP senators: {len(rep_sen)}')\n",
    "print(f'total number of DEM senators: {len(dem_sen)}')"
   ]
  },
  {
   "cell_type": "code",
   "execution_count": 5,
   "metadata": {},
   "outputs": [],
   "source": [
    "empty = pd.DataFrame({'senator': [],\n",
    "                         'text': [],\n",
    "                         'target': []})"
   ]
  },
  {
   "cell_type": "code",
   "execution_count": 6,
   "metadata": {},
   "outputs": [],
   "source": [
    "def get_tweet(senators, df, affiliation, num_tweet, begin_date, end_date):\n",
    "    for senator in tqdm(senators):\n",
    "        tweetCriteria = got.manager.TweetCriteria().setUsername(senator).setSince(begin_date).setUntil(end_date).setMaxTweets(num_tweet)\n",
    "        tweets = got.manager.TweetManager.getTweets(tweetCriteria)\n",
    "        for tweet in tweets:\n",
    "            dft = pd.DataFrame({'senator': senator,\n",
    "                               'text': tweet.text,\n",
    "                               'target': affiliation},index=[0])\n",
    "            df = df.append(dft, ignore_index=True)\n",
    "    return df"
   ]
  },
  {
   "cell_type": "markdown",
   "metadata": {},
   "source": [
    "### Dem Tweets"
   ]
  },
  {
   "cell_type": "code",
   "execution_count": 42,
   "metadata": {},
   "outputs": [
    {
     "name": "stderr",
     "output_type": "stream",
     "text": [
      "100%|██████████| 45/45 [04:19<00:00,  5.77s/it]\n"
     ]
    }
   ],
   "source": [
    "dem_tweets2020 = get_tweet(dem_sen, empty, 0, 200, '2020-01-01', '2020-08-11')"
   ]
  },
  {
   "cell_type": "code",
   "execution_count": 43,
   "metadata": {},
   "outputs": [
    {
     "name": "stderr",
     "output_type": "stream",
     "text": [
      "100%|██████████| 45/45 [04:29<00:00,  5.99s/it]\n"
     ]
    }
   ],
   "source": [
    "dem_tweets2019 = get_tweet(dem_sen, empty, 0, 200, '2019-01-01', '2019-12-30')"
   ]
  },
  {
   "cell_type": "code",
   "execution_count": 45,
   "metadata": {
    "scrolled": false
   },
   "outputs": [
    {
     "name": "stderr",
     "output_type": "stream",
     "text": [
      "100%|██████████| 45/45 [04:42<00:00,  6.27s/it]\n"
     ]
    }
   ],
   "source": [
    "dem_tweets2018 = get_tweet(dem_sen, empty, 0, 200, '2018-01-01', '2018-12-30')"
   ]
  },
  {
   "cell_type": "code",
   "execution_count": 47,
   "metadata": {},
   "outputs": [
    {
     "name": "stderr",
     "output_type": "stream",
     "text": [
      "100%|██████████| 45/45 [03:38<00:00,  4.85s/it]\n"
     ]
    }
   ],
   "source": [
    "dem_tweets2017 = get_tweet(dem_sen, empty, 0, 200, '2017-01-01', '2017-12-30')"
   ]
  },
  {
   "cell_type": "code",
   "execution_count": 49,
   "metadata": {},
   "outputs": [
    {
     "name": "stderr",
     "output_type": "stream",
     "text": [
      "100%|██████████| 45/45 [03:13<00:00,  4.29s/it]\n"
     ]
    }
   ],
   "source": [
    "dem_tweets2016 = get_tweet(dem_sen, empty, 0, 200, '2016-01-01', '2016-12-30')"
   ]
  },
  {
   "cell_type": "code",
   "execution_count": 50,
   "metadata": {},
   "outputs": [],
   "source": [
    "dem_tweets = pd.concat([dem_tweets2020, \n",
    "                        dem_tweets2019,\n",
    "                        dem_tweets2018,\n",
    "                        dem_tweets2017,\n",
    "                        dem_tweets2016])\n",
    "dem_tweets.to_csv('dem_tweets')"
   ]
  },
  {
   "cell_type": "code",
   "execution_count": 51,
   "metadata": {},
   "outputs": [
    {
     "data": {
      "text/plain": [
       "(42059, 3)"
      ]
     },
     "execution_count": 51,
     "metadata": {},
     "output_type": "execute_result"
    }
   ],
   "source": [
    "dem_tweets.shape"
   ]
  },
  {
   "cell_type": "markdown",
   "metadata": {},
   "source": [
    "### GOP Tweets"
   ]
  },
  {
   "cell_type": "code",
   "execution_count": 7,
   "metadata": {},
   "outputs": [
    {
     "name": "stderr",
     "output_type": "stream",
     "text": [
      "100%|██████████| 54/54 [04:48<00:00,  5.34s/it]\n"
     ]
    }
   ],
   "source": [
    "gop_tweets2020 = get_tweet(rep_sen, empty, 1, 200, '2020-01-01', '2020-08-11')"
   ]
  },
  {
   "cell_type": "code",
   "execution_count": 8,
   "metadata": {},
   "outputs": [
    {
     "name": "stderr",
     "output_type": "stream",
     "text": [
      "100%|██████████| 54/54 [04:48<00:00,  5.35s/it]\n"
     ]
    }
   ],
   "source": [
    "gop_tweets2019 = get_tweet(rep_sen, empty, 1, 200, '2019-01-01', '2019-12-30')"
   ]
  },
  {
   "cell_type": "code",
   "execution_count": 9,
   "metadata": {},
   "outputs": [
    {
     "name": "stderr",
     "output_type": "stream",
     "text": [
      "100%|██████████| 54/54 [04:36<00:00,  5.11s/it]\n"
     ]
    }
   ],
   "source": [
    "gop_tweets2018 = get_tweet(rep_sen, empty, 1, 200, '2018-01-01', '2018-12-30')"
   ]
  },
  {
   "cell_type": "code",
   "execution_count": 10,
   "metadata": {},
   "outputs": [
    {
     "name": "stderr",
     "output_type": "stream",
     "text": [
      "100%|██████████| 54/54 [04:15<00:00,  4.72s/it]\n"
     ]
    }
   ],
   "source": [
    "gop_tweets2017 = get_tweet(rep_sen, empty, 1, 200, '2017-01-01', '2017-12-30')"
   ]
  },
  {
   "cell_type": "code",
   "execution_count": 11,
   "metadata": {},
   "outputs": [
    {
     "name": "stderr",
     "output_type": "stream",
     "text": [
      "100%|██████████| 54/54 [04:10<00:00,  4.64s/it]\n"
     ]
    }
   ],
   "source": [
    "gop_tweets2016 = get_tweet(rep_sen, empty, 1, 200, '2016-01-01', '2016-12-30')"
   ]
  },
  {
   "cell_type": "code",
   "execution_count": 12,
   "metadata": {},
   "outputs": [],
   "source": [
    "gop_tweets = pd.concat([gop_tweets2020, \n",
    "                        gop_tweets2019,\n",
    "                        gop_tweets2018,\n",
    "                        gop_tweets2017,\n",
    "                        gop_tweets2016])\n",
    "gop_tweets.to_csv('gop_tweets')"
   ]
  },
  {
   "cell_type": "code",
   "execution_count": 14,
   "metadata": {},
   "outputs": [
    {
     "data": {
      "text/plain": [
       "(49466, 3)"
      ]
     },
     "execution_count": 14,
     "metadata": {},
     "output_type": "execute_result"
    }
   ],
   "source": [
    "gop_tweets.shape"
   ]
  },
  {
   "cell_type": "markdown",
   "metadata": {},
   "source": [
    "### 2020 Tweets"
   ]
  },
  {
   "cell_type": "code",
   "execution_count": 20,
   "metadata": {},
   "outputs": [
    {
     "name": "stderr",
     "output_type": "stream",
     "text": [
      "100%|██████████| 54/54 [02:24<00:00,  2.68s/it]\n"
     ]
    }
   ],
   "source": [
    "gop_tweets2020 = get_tweet(rep_sen, empty, 1, 100, '2020-01-01', '2020-08-11')"
   ]
  },
  {
   "cell_type": "code",
   "execution_count": 21,
   "metadata": {},
   "outputs": [
    {
     "name": "stderr",
     "output_type": "stream",
     "text": [
      "100%|██████████| 45/45 [02:08<00:00,  2.84s/it]\n"
     ]
    }
   ],
   "source": [
    "dem_tweets2020 = get_tweet(dem_sen, empty, 0, 100, '2020-01-01', '2020-08-11')"
   ]
  },
  {
   "cell_type": "code",
   "execution_count": 24,
   "metadata": {
    "scrolled": true
   },
   "outputs": [
    {
     "data": {
      "text/html": [
       "<div>\n",
       "<style scoped>\n",
       "    .dataframe tbody tr th:only-of-type {\n",
       "        vertical-align: middle;\n",
       "    }\n",
       "\n",
       "    .dataframe tbody tr th {\n",
       "        vertical-align: top;\n",
       "    }\n",
       "\n",
       "    .dataframe thead th {\n",
       "        text-align: right;\n",
       "    }\n",
       "</style>\n",
       "<table border=\"1\" class=\"dataframe\">\n",
       "  <thead>\n",
       "    <tr style=\"text-align: right;\">\n",
       "      <th></th>\n",
       "      <th>senator</th>\n",
       "      <th>text</th>\n",
       "      <th>target</th>\n",
       "    </tr>\n",
       "  </thead>\n",
       "  <tbody>\n",
       "    <tr>\n",
       "      <th>0</th>\n",
       "      <td>lisamurkowski</td>\n",
       "      <td>I hope everyone can enjoy some delicious Alask...</td>\n",
       "      <td>1.0</td>\n",
       "    </tr>\n",
       "    <tr>\n",
       "      <th>1</th>\n",
       "      <td>lisamurkowski</td>\n",
       "      <td>Happy #AlaskaWildSalmonDay! Today we celebrate...</td>\n",
       "      <td>1.0</td>\n",
       "    </tr>\n",
       "    <tr>\n",
       "      <th>2</th>\n",
       "      <td>lisamurkowski</td>\n",
       "      <td>We worked hard in Congress to pass the CARES A...</td>\n",
       "      <td>1.0</td>\n",
       "    </tr>\n",
       "    <tr>\n",
       "      <th>3</th>\n",
       "      <td>lisamurkowski</td>\n",
       "      <td>I commend the Administration for its continued...</td>\n",
       "      <td>1.0</td>\n",
       "    </tr>\n",
       "    <tr>\n",
       "      <th>4</th>\n",
       "      <td>lisamurkowski</td>\n",
       "      <td>My statement after President Trump took execut...</td>\n",
       "      <td>1.0</td>\n",
       "    </tr>\n",
       "  </tbody>\n",
       "</table>\n",
       "</div>"
      ],
      "text/plain": [
       "         senator                                               text  target\n",
       "0  lisamurkowski  I hope everyone can enjoy some delicious Alask...     1.0\n",
       "1  lisamurkowski  Happy #AlaskaWildSalmonDay! Today we celebrate...     1.0\n",
       "2  lisamurkowski  We worked hard in Congress to pass the CARES A...     1.0\n",
       "3  lisamurkowski  I commend the Administration for its continued...     1.0\n",
       "4  lisamurkowski  My statement after President Trump took execut...     1.0"
      ]
     },
     "execution_count": 24,
     "metadata": {},
     "output_type": "execute_result"
    }
   ],
   "source": [
    "tweets2020 = pd.concat([gop_tweets2020, dem_tweets2020])\n",
    "tweets2020.head()"
   ]
  },
  {
   "cell_type": "code",
   "execution_count": 25,
   "metadata": {},
   "outputs": [
    {
     "name": "stdout",
     "output_type": "stream",
     "text": [
      "total number of senators: 9681\n",
      "total number of GOP senators: 5281\n",
      "total number of DEM senators: 4400\n"
     ]
    }
   ],
   "source": [
    "print(f'total number of senators: {len(tweets2020)}')\n",
    "print(f'total number of GOP senators: {len(gop_tweets2020)}')\n",
    "print(f'total number of DEM senators: {len(dem_tweets2020)}')"
   ]
  },
  {
   "cell_type": "code",
   "execution_count": 26,
   "metadata": {},
   "outputs": [],
   "source": [
    "tweets2020.to_csv('tweets2020.csv')"
   ]
  },
  {
   "cell_type": "markdown",
   "metadata": {},
   "source": [
    "### 2019 Tweets"
   ]
  },
  {
   "cell_type": "code",
   "execution_count": 7,
   "metadata": {},
   "outputs": [
    {
     "name": "stderr",
     "output_type": "stream",
     "text": [
      "100%|██████████| 54/54 [02:28<00:00,  2.74s/it]\n"
     ]
    }
   ],
   "source": [
    "gop_tweets2019 = get_tweet(rep_sen, empty, 1, 100, '2019-01-01', '2019-12-30')"
   ]
  },
  {
   "cell_type": "code",
   "execution_count": 8,
   "metadata": {},
   "outputs": [
    {
     "name": "stderr",
     "output_type": "stream",
     "text": [
      "100%|██████████| 45/45 [02:11<00:00,  2.93s/it]\n"
     ]
    }
   ],
   "source": [
    "dem_tweets2019 = get_tweet(dem_sen, empty, 0, 100, '2019-01-01', '2019-12-30')"
   ]
  },
  {
   "cell_type": "code",
   "execution_count": 9,
   "metadata": {},
   "outputs": [
    {
     "data": {
      "text/html": [
       "<div>\n",
       "<style scoped>\n",
       "    .dataframe tbody tr th:only-of-type {\n",
       "        vertical-align: middle;\n",
       "    }\n",
       "\n",
       "    .dataframe tbody tr th {\n",
       "        vertical-align: top;\n",
       "    }\n",
       "\n",
       "    .dataframe thead th {\n",
       "        text-align: right;\n",
       "    }\n",
       "</style>\n",
       "<table border=\"1\" class=\"dataframe\">\n",
       "  <thead>\n",
       "    <tr style=\"text-align: right;\">\n",
       "      <th></th>\n",
       "      <th>senator</th>\n",
       "      <th>text</th>\n",
       "      <th>target</th>\n",
       "    </tr>\n",
       "  </thead>\n",
       "  <tbody>\n",
       "    <tr>\n",
       "      <th>0</th>\n",
       "      <td>lisamurkowski</td>\n",
       "      <td>I’m proud that my Interior-Environment appropr...</td>\n",
       "      <td>1.0</td>\n",
       "    </tr>\n",
       "    <tr>\n",
       "      <th>1</th>\n",
       "      <td>lisamurkowski</td>\n",
       "      <td>In Alaska, communities like Gustavus, Fairbank...</td>\n",
       "      <td>1.0</td>\n",
       "    </tr>\n",
       "    <tr>\n",
       "      <th>2</th>\n",
       "      <td>lisamurkowski</td>\n",
       "      <td>I was honored to receive the @CFSIUpdate 2019 ...</td>\n",
       "      <td>1.0</td>\n",
       "    </tr>\n",
       "    <tr>\n",
       "      <th>3</th>\n",
       "      <td>lisamurkowski</td>\n",
       "      <td>During my years in public service, I have alwa...</td>\n",
       "      <td>1.0</td>\n",
       "    </tr>\n",
       "    <tr>\n",
       "      <th>4</th>\n",
       "      <td>lisamurkowski</td>\n",
       "      <td>As a lifelong Alaskan, I know the importance o...</td>\n",
       "      <td>1.0</td>\n",
       "    </tr>\n",
       "  </tbody>\n",
       "</table>\n",
       "</div>"
      ],
      "text/plain": [
       "         senator                                               text  target\n",
       "0  lisamurkowski  I’m proud that my Interior-Environment appropr...     1.0\n",
       "1  lisamurkowski  In Alaska, communities like Gustavus, Fairbank...     1.0\n",
       "2  lisamurkowski  I was honored to receive the @CFSIUpdate 2019 ...     1.0\n",
       "3  lisamurkowski  During my years in public service, I have alwa...     1.0\n",
       "4  lisamurkowski  As a lifelong Alaskan, I know the importance o...     1.0"
      ]
     },
     "execution_count": 9,
     "metadata": {},
     "output_type": "execute_result"
    }
   ],
   "source": [
    "tweets2019 = pd.concat([gop_tweets2019, dem_tweets2019])\n",
    "tweets2019.head()"
   ]
  },
  {
   "cell_type": "code",
   "execution_count": 10,
   "metadata": {},
   "outputs": [
    {
     "name": "stdout",
     "output_type": "stream",
     "text": [
      "total number of senators: 9773\n",
      "total number of GOP senators: 5273\n",
      "total number of DEM senators: 4500\n"
     ]
    }
   ],
   "source": [
    "print(f'total number of senators: {len(tweets2019)}')\n",
    "print(f'total number of GOP senators: {len(gop_tweets2019)}')\n",
    "print(f'total number of DEM senators: {len(dem_tweets2019)}')"
   ]
  },
  {
   "cell_type": "code",
   "execution_count": 12,
   "metadata": {},
   "outputs": [],
   "source": [
    "tweets2019.to_csv('tweets2019.csv')"
   ]
  },
  {
   "cell_type": "markdown",
   "metadata": {},
   "source": [
    "### 2018 Tweets"
   ]
  },
  {
   "cell_type": "code",
   "execution_count": 8,
   "metadata": {},
   "outputs": [
    {
     "name": "stderr",
     "output_type": "stream",
     "text": [
      "100%|██████████| 54/54 [02:13<00:00,  2.47s/it]\n"
     ]
    }
   ],
   "source": [
    "gop_tweets2018 = get_tweet(rep_sen, empty, 1, 100, '2018-01-01', '2018-12-30')"
   ]
  },
  {
   "cell_type": "code",
   "execution_count": 9,
   "metadata": {},
   "outputs": [
    {
     "name": "stderr",
     "output_type": "stream",
     "text": [
      "100%|██████████| 45/45 [02:08<00:00,  2.85s/it]\n"
     ]
    }
   ],
   "source": [
    "dem_tweets2018 = get_tweet(dem_sen, empty, 0, 100, '2018-01-01', '2018-12-30')"
   ]
  },
  {
   "cell_type": "code",
   "execution_count": 10,
   "metadata": {},
   "outputs": [
    {
     "data": {
      "text/html": [
       "<div>\n",
       "<style scoped>\n",
       "    .dataframe tbody tr th:only-of-type {\n",
       "        vertical-align: middle;\n",
       "    }\n",
       "\n",
       "    .dataframe tbody tr th {\n",
       "        vertical-align: top;\n",
       "    }\n",
       "\n",
       "    .dataframe thead th {\n",
       "        text-align: right;\n",
       "    }\n",
       "</style>\n",
       "<table border=\"1\" class=\"dataframe\">\n",
       "  <thead>\n",
       "    <tr style=\"text-align: right;\">\n",
       "      <th></th>\n",
       "      <th>senator</th>\n",
       "      <th>text</th>\n",
       "      <th>target</th>\n",
       "    </tr>\n",
       "  </thead>\n",
       "  <tbody>\n",
       "    <tr>\n",
       "      <th>0</th>\n",
       "      <td>lisamurkowski</td>\n",
       "      <td>Many Alaskans and Americans rely on wood as an...</td>\n",
       "      <td>1.0</td>\n",
       "    </tr>\n",
       "    <tr>\n",
       "      <th>1</th>\n",
       "      <td>lisamurkowski</td>\n",
       "      <td>I introduced a bipartisan bill w/ my colleague...</td>\n",
       "      <td>1.0</td>\n",
       "    </tr>\n",
       "    <tr>\n",
       "      <th>2</th>\n",
       "      <td>lisamurkowski</td>\n",
       "      <td>This land transfer will allow the org. to reno...</td>\n",
       "      <td>1.0</td>\n",
       "    </tr>\n",
       "    <tr>\n",
       "      <th>3</th>\n",
       "      <td>lisamurkowski</td>\n",
       "      <td>Recently, my bill w/ @SenDanSullivan and @repd...</td>\n",
       "      <td>1.0</td>\n",
       "    </tr>\n",
       "    <tr>\n",
       "      <th>4</th>\n",
       "      <td>lisamurkowski</td>\n",
       "      <td>I encourage you to read my opinion editorial o...</td>\n",
       "      <td>1.0</td>\n",
       "    </tr>\n",
       "  </tbody>\n",
       "</table>\n",
       "</div>"
      ],
      "text/plain": [
       "         senator                                               text  target\n",
       "0  lisamurkowski  Many Alaskans and Americans rely on wood as an...     1.0\n",
       "1  lisamurkowski  I introduced a bipartisan bill w/ my colleague...     1.0\n",
       "2  lisamurkowski  This land transfer will allow the org. to reno...     1.0\n",
       "3  lisamurkowski  Recently, my bill w/ @SenDanSullivan and @repd...     1.0\n",
       "4  lisamurkowski  I encourage you to read my opinion editorial o...     1.0"
      ]
     },
     "execution_count": 10,
     "metadata": {},
     "output_type": "execute_result"
    }
   ],
   "source": [
    "tweets2018 = pd.concat([gop_tweets2018, dem_tweets2018])\n",
    "tweets2018.head()"
   ]
  },
  {
   "cell_type": "code",
   "execution_count": 11,
   "metadata": {},
   "outputs": [
    {
     "name": "stdout",
     "output_type": "stream",
     "text": [
      "total number of senators: 9426\n",
      "total number of GOP senators: 4946\n",
      "total number of DEM senators: 4480\n"
     ]
    }
   ],
   "source": [
    "print(f'total number of senators: {len(tweets2018)}')\n",
    "print(f'total number of GOP senators: {len(gop_tweets2018)}')\n",
    "print(f'total number of DEM senators: {len(dem_tweets2018)}')"
   ]
  },
  {
   "cell_type": "code",
   "execution_count": 12,
   "metadata": {},
   "outputs": [],
   "source": [
    "tweets2018.to_csv('tweets2018.csv')"
   ]
  },
  {
   "cell_type": "markdown",
   "metadata": {},
   "source": [
    "### 2017 Tweets"
   ]
  },
  {
   "cell_type": "code",
   "execution_count": 37,
   "metadata": {},
   "outputs": [
    {
     "name": "stderr",
     "output_type": "stream",
     "text": [
      "100%|██████████| 54/54 [02:12<00:00,  2.46s/it]\n"
     ]
    }
   ],
   "source": [
    "gop_tweets2017 = get_tweet(rep_sen, empty, 1, 100, '2017-01-01', '2017-12-30')"
   ]
  },
  {
   "cell_type": "code",
   "execution_count": 38,
   "metadata": {},
   "outputs": [
    {
     "name": "stderr",
     "output_type": "stream",
     "text": [
      "100%|██████████| 45/45 [02:01<00:00,  2.69s/it]\n"
     ]
    }
   ],
   "source": [
    "dem_tweets2017 = get_tweet(dem_sen, empty, 0, 100, '2017-01-01', '2017-12-30')"
   ]
  },
  {
   "cell_type": "code",
   "execution_count": 39,
   "metadata": {},
   "outputs": [
    {
     "data": {
      "text/html": [
       "<div>\n",
       "<style scoped>\n",
       "    .dataframe tbody tr th:only-of-type {\n",
       "        vertical-align: middle;\n",
       "    }\n",
       "\n",
       "    .dataframe tbody tr th {\n",
       "        vertical-align: top;\n",
       "    }\n",
       "\n",
       "    .dataframe thead th {\n",
       "        text-align: right;\n",
       "    }\n",
       "</style>\n",
       "<table border=\"1\" class=\"dataframe\">\n",
       "  <thead>\n",
       "    <tr style=\"text-align: right;\">\n",
       "      <th></th>\n",
       "      <th>senator</th>\n",
       "      <th>text</th>\n",
       "      <th>target</th>\n",
       "    </tr>\n",
       "  </thead>\n",
       "  <tbody>\n",
       "    <tr>\n",
       "      <th>0</th>\n",
       "      <td>lisamurkowski</td>\n",
       "      <td>Afternoon sun through the fog along Turnagain Arm.</td>\n",
       "      <td>1.0</td>\n",
       "    </tr>\n",
       "    <tr>\n",
       "      <th>1</th>\n",
       "      <td>lisamurkowski</td>\n",
       "      <td>Something I look forward to every year when I’m home for the holidays is ringing the bell for the Salvation Army. I love getting to sing Christmas carols, catch up with folks, and experience the incredible generosity of my fellow Alaskans.</td>\n",
       "      <td>1.0</td>\n",
       "    </tr>\n",
       "    <tr>\n",
       "      <th>2</th>\n",
       "      <td>lisamurkowski</td>\n",
       "      <td>Yesterday, I spoke at Congressional bill signing for Tax Cuts &amp; Jobs Act. Today @POTUS signed it into law, meaning lower taxes &amp;amp; opening small portion of 1002 Area in ANWR for responsible energy development is now a reality. The future of our nation &amp;amp; Alaska just got brighter.</td>\n",
       "      <td>1.0</td>\n",
       "    </tr>\n",
       "    <tr>\n",
       "      <th>3</th>\n",
       "      <td>lisamurkowski</td>\n",
       "      <td>Congress extended federal funding for the Children’s Health Insurance Program (CHIP.) While I’m glad we extended funding for CHIP, Congress still needs to pass a long-term extension that gives Alaska’s most vulnerable children the security they need. http://bit.ly/2BkMz5c</td>\n",
       "      <td>1.0</td>\n",
       "    </tr>\n",
       "    <tr>\n",
       "      <th>4</th>\n",
       "      <td>lisamurkowski</td>\n",
       "      <td>Click to read my editorial on this week’s passage of the Tax Cuts and Jobs Act which includes two historic opportunities for Alaska and our nation: http://bit.ly/2BUJE6O</td>\n",
       "      <td>1.0</td>\n",
       "    </tr>\n",
       "  </tbody>\n",
       "</table>\n",
       "</div>"
      ],
      "text/plain": [
       "         senator  \\\n",
       "0  lisamurkowski   \n",
       "1  lisamurkowski   \n",
       "2  lisamurkowski   \n",
       "3  lisamurkowski   \n",
       "4  lisamurkowski   \n",
       "\n",
       "                                                                                                                                                                                                                                                                                            text  \\\n",
       "0                                                                                                                                                                                                                                             Afternoon sun through the fog along Turnagain Arm.   \n",
       "1                                                Something I look forward to every year when I’m home for the holidays is ringing the bell for the Salvation Army. I love getting to sing Christmas carols, catch up with folks, and experience the incredible generosity of my fellow Alaskans.   \n",
       "2  Yesterday, I spoke at Congressional bill signing for Tax Cuts & Jobs Act. Today @POTUS signed it into law, meaning lower taxes &amp; opening small portion of 1002 Area in ANWR for responsible energy development is now a reality. The future of our nation &amp; Alaska just got brighter.   \n",
       "3               Congress extended federal funding for the Children’s Health Insurance Program (CHIP.) While I’m glad we extended funding for CHIP, Congress still needs to pass a long-term extension that gives Alaska’s most vulnerable children the security they need. http://bit.ly/2BkMz5c   \n",
       "4                                                                                                                      Click to read my editorial on this week’s passage of the Tax Cuts and Jobs Act which includes two historic opportunities for Alaska and our nation: http://bit.ly/2BUJE6O   \n",
       "\n",
       "   target  \n",
       "0     1.0  \n",
       "1     1.0  \n",
       "2     1.0  \n",
       "3     1.0  \n",
       "4     1.0  "
      ]
     },
     "execution_count": 39,
     "metadata": {},
     "output_type": "execute_result"
    }
   ],
   "source": [
    "tweets2017 = pd.concat([gop_tweets2017, dem_tweets2017])\n",
    "tweets2017.head()"
   ]
  },
  {
   "cell_type": "code",
   "execution_count": 40,
   "metadata": {
    "scrolled": true
   },
   "outputs": [
    {
     "name": "stdout",
     "output_type": "stream",
     "text": [
      "total number of senators: 8900\n",
      "total number of GOP senators: 4800\n",
      "total number of DEM senators: 4100\n"
     ]
    }
   ],
   "source": [
    "print(f'total number of senators: {len(tweets2017)}')\n",
    "print(f'total number of GOP senators: {len(gop_tweets2017)}')\n",
    "print(f'total number of DEM senators: {len(dem_tweets2017)}')"
   ]
  },
  {
   "cell_type": "code",
   "execution_count": 41,
   "metadata": {},
   "outputs": [],
   "source": [
    "tweets2017.to_csv('tweets2017.csv')"
   ]
  },
  {
   "cell_type": "code",
   "execution_count": null,
   "metadata": {},
   "outputs": [],
   "source": []
  }
 ],
 "metadata": {
  "kernelspec": {
   "display_name": "Python 3",
   "language": "python",
   "name": "python3"
  },
  "language_info": {
   "codemirror_mode": {
    "name": "ipython",
    "version": 3
   },
   "file_extension": ".py",
   "mimetype": "text/x-python",
   "name": "python",
   "nbconvert_exporter": "python",
   "pygments_lexer": "ipython3",
   "version": "3.7.7"
  }
 },
 "nbformat": 4,
 "nbformat_minor": 4
}
