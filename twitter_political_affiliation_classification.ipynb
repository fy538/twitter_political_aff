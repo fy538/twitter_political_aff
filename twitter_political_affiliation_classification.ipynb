{
 "cells": [
  {
   "cell_type": "code",
   "execution_count": 8,
   "metadata": {},
   "outputs": [],
   "source": [
    "import pandas as pd\n",
    "import numpy as np\n",
    "import re"
   ]
  },
  {
   "cell_type": "code",
   "execution_count": 77,
   "metadata": {},
   "outputs": [
    {
     "name": "stderr",
     "output_type": "stream",
     "text": [
      "/Users/feihuyan/anaconda3/lib/python3.7/site-packages/ipykernel_launcher.py:2: FutureWarning: Passing a negative integer is deprecated in version 1.0 and will not be supported in future version. Instead, use None to not limit the column width.\n",
      "  \n"
     ]
    }
   ],
   "source": [
    "pd.set_option('display.max_rows', None)\n",
    "pd.set_option('display.max_colwidth', -1)"
   ]
  },
  {
   "cell_type": "code",
   "execution_count": 78,
   "metadata": {},
   "outputs": [],
   "source": [
    "dem = pd.read_csv('/Users/feihuyan/dem_tweets')\n",
    "rep = pd.read_csv('/Users/feihuyan/gop_tweets')"
   ]
  },
  {
   "cell_type": "code",
   "execution_count": 79,
   "metadata": {},
   "outputs": [],
   "source": [
    "df = pd.concat([dem, rep])"
   ]
  },
  {
   "cell_type": "code",
   "execution_count": 81,
   "metadata": {
    "scrolled": true
   },
   "outputs": [
    {
     "data": {
      "text/plain": [
       "(91525, 4)"
      ]
     },
     "execution_count": 81,
     "metadata": {},
     "output_type": "execute_result"
    }
   ],
   "source": [
    "df.shape"
   ]
  },
  {
   "cell_type": "code",
   "execution_count": 86,
   "metadata": {},
   "outputs": [],
   "source": [
    "def text(text):\n",
    "    text = re.sub(r'https?:\\/\\/(www\\.)?[-a-zA-Z0-9@:%._\\+~#=]{1,256}\\.[a-zA-Z0-9()]{1,6}\\b([-a-zA-Z0-9()@:%_\\+.~#?&//=]*)','',text)\n",
    "    text = re.sub(r'[-a-zA-Z0-9@:%._\\+~#=]{1,256}\\.[a-zA-Z0-9()]{1,6}\\b([-a-zA-Z0-9()@:%_\\+.~#?&//=]*)','',text)\n",
    "    text = re.sub(r'\\-', ' ', text)\n",
    "    text = re.sub(r'\\B\\@\\w+.*','',text)\n",
    "    text = re.sub(r'[cC][oO][vV].*','coronavirus',text)\n",
    "    text = re.sub(r'&', 'and', text)\n",
    "    text = re.sub(r'w\\/', 'with', text)\n",
    "    text = re.sub(r'[^A-Za-z|\\s]','',text)\n",
    "    text = text.lower()\n",
    "    return text"
   ]
  },
  {
   "cell_type": "code",
   "execution_count": 87,
   "metadata": {},
   "outputs": [],
   "source": [
    "df['text'] = df['text'].astype(str).apply(lambda x: text(x))"
   ]
  },
  {
   "cell_type": "code",
   "execution_count": 164,
   "metadata": {
    "scrolled": false
   },
   "outputs": [
    {
     "data": {
      "text/html": [
       "<div>\n",
       "<style scoped>\n",
       "    .dataframe tbody tr th:only-of-type {\n",
       "        vertical-align: middle;\n",
       "    }\n",
       "\n",
       "    .dataframe tbody tr th {\n",
       "        vertical-align: top;\n",
       "    }\n",
       "\n",
       "    .dataframe thead th {\n",
       "        text-align: right;\n",
       "    }\n",
       "</style>\n",
       "<table border=\"1\" class=\"dataframe\">\n",
       "  <thead>\n",
       "    <tr style=\"text-align: right;\">\n",
       "      <th></th>\n",
       "      <th>Unnamed: 0</th>\n",
       "      <th>senator</th>\n",
       "      <th>text</th>\n",
       "      <th>target</th>\n",
       "    </tr>\n",
       "  </thead>\n",
       "  <tbody>\n",
       "    <tr>\n",
       "      <th>18592</th>\n",
       "      <td>8184</td>\n",
       "      <td>SenatorRounds</td>\n",
       "      <td>our budget process is clearly broken thank you</td>\n",
       "      <td>1.0</td>\n",
       "    </tr>\n",
       "    <tr>\n",
       "      <th>36956</th>\n",
       "      <td>6275</td>\n",
       "      <td>senrobportman</td>\n",
       "      <td>groups like</td>\n",
       "      <td>1.0</td>\n",
       "    </tr>\n",
       "    <tr>\n",
       "      <th>8330</th>\n",
       "      <td>8330</td>\n",
       "      <td>SenatorBaldwin</td>\n",
       "      <td>couldnt agree more thats why im fighting for the next</td>\n",
       "      <td>0.0</td>\n",
       "    </tr>\n",
       "    <tr>\n",
       "      <th>20716</th>\n",
       "      <td>10308</td>\n",
       "      <td>SenatorEnzi</td>\n",
       "      <td>we should be supporting innovation in the energy industry rather than implementing overly burdensome rules that could increase energy costs and put people out of work</td>\n",
       "      <td>1.0</td>\n",
       "    </tr>\n",
       "    <tr>\n",
       "      <th>20068</th>\n",
       "      <td>2502</td>\n",
       "      <td>SenWarren</td>\n",
       "      <td>the federal government already contracts to produce vaccines and drugs for national emergencies by publicly manufacturing generic drugs my plan would lower skyrocketing drug prices increase competition in the generic drug market help address urgent medicine shortages</td>\n",
       "      <td>0.0</td>\n",
       "    </tr>\n",
       "    <tr>\n",
       "      <th>44300</th>\n",
       "      <td>4094</td>\n",
       "      <td>RoyBlunt</td>\n",
       "      <td>i met with my friend andy puzder today his strong leadership and critical thinking will serve the department of labor well</td>\n",
       "      <td>1.0</td>\n",
       "    </tr>\n",
       "    <tr>\n",
       "      <th>16079</th>\n",
       "      <td>5671</td>\n",
       "      <td>SteveDaines</td>\n",
       "      <td>historic day for the little shell tribe and mt federal recognition is finally heading to</td>\n",
       "      <td>1.0</td>\n",
       "    </tr>\n",
       "    <tr>\n",
       "      <th>1399</th>\n",
       "      <td>1399</td>\n",
       "      <td>ChrisCoons</td>\n",
       "      <td>with the senate passing save our seas  and our recent commitment to the global ghost gear initiative the  is making progress in tackling the global ocean plastic crisis however there is still much more to be done</td>\n",
       "      <td>0.0</td>\n",
       "    </tr>\n",
       "    <tr>\n",
       "      <th>14019</th>\n",
       "      <td>3611</td>\n",
       "      <td>JerryMoran</td>\n",
       "      <td>great to be with attendees of</td>\n",
       "      <td>1.0</td>\n",
       "    </tr>\n",
       "    <tr>\n",
       "      <th>2234</th>\n",
       "      <td>2234</td>\n",
       "      <td>SenMarkey</td>\n",
       "      <td>we are simply not doing enough to protect our seniors or workers in assisted living homes from</td>\n",
       "      <td>0.0</td>\n",
       "    </tr>\n",
       "  </tbody>\n",
       "</table>\n",
       "</div>"
      ],
      "text/plain": [
       "       Unnamed: 0         senator  \\\n",
       "18592  8184        SenatorRounds    \n",
       "36956  6275        senrobportman    \n",
       "8330   8330        SenatorBaldwin   \n",
       "20716  10308       SenatorEnzi      \n",
       "20068  2502        SenWarren        \n",
       "44300  4094        RoyBlunt         \n",
       "16079  5671        SteveDaines      \n",
       "1399   1399        ChrisCoons       \n",
       "14019  3611        JerryMoran       \n",
       "2234   2234        SenMarkey        \n",
       "\n",
       "                                                                                                                                                                                                                                                                              text  \\\n",
       "18592  our budget process is clearly broken thank you                                                                                                                                                                                                                                \n",
       "36956  groups like                                                                                                                                                                                                                                                                   \n",
       "8330   couldnt agree more thats why im fighting for the next                                                                                                                                                                                                                         \n",
       "20716  we should be supporting innovation in the energy industry rather than implementing overly burdensome rules that could increase energy costs and put people out of work                                                                                                        \n",
       "20068  the federal government already contracts to produce vaccines and drugs for national emergencies by publicly manufacturing generic drugs my plan would lower skyrocketing drug prices increase competition in the generic drug market help address urgent medicine shortages   \n",
       "44300  i met with my friend andy puzder today his strong leadership and critical thinking will serve the department of labor well                                                                                                                                                    \n",
       "16079   historic day for the little shell tribe and mt federal recognition is finally heading to                                                                                                                                                                                     \n",
       "1399   with the senate passing save our seas  and our recent commitment to the global ghost gear initiative the  is making progress in tackling the global ocean plastic crisis however there is still much more to be done                                                          \n",
       "14019  great to be with attendees of                                                                                                                                                                                                                                                 \n",
       "2234   we are simply not doing enough to protect our seniors or workers in assisted living homes from                                                                                                                                                                                \n",
       "\n",
       "       target  \n",
       "18592  1.0     \n",
       "36956  1.0     \n",
       "8330   0.0     \n",
       "20716  1.0     \n",
       "20068  0.0     \n",
       "44300  1.0     \n",
       "16079  1.0     \n",
       "1399   0.0     \n",
       "14019  1.0     \n",
       "2234   0.0     "
      ]
     },
     "execution_count": 164,
     "metadata": {},
     "output_type": "execute_result"
    }
   ],
   "source": [
    "train_df = df.sample(frac=1)\n",
    "train_df.head(10)"
   ]
  },
  {
   "cell_type": "code",
   "execution_count": 95,
   "metadata": {},
   "outputs": [],
   "source": [
    "train_df = train_df[train_df['text'].apply(len) > 20]"
   ]
  },
  {
   "cell_type": "code",
   "execution_count": 96,
   "metadata": {},
   "outputs": [
    {
     "data": {
      "text/plain": [
       "(77674, 4)"
      ]
     },
     "execution_count": 96,
     "metadata": {},
     "output_type": "execute_result"
    }
   ],
   "source": [
    "train_df.shape"
   ]
  },
  {
   "cell_type": "code",
   "execution_count": 103,
   "metadata": {},
   "outputs": [],
   "source": [
    "import tensorflow as tf\n",
    "from keras.models import Sequential\n",
    "from keras.layers import Dense, Input, CuDNNLSTM, Embedding, Dropout, Activation, Flatten, Bidirectional, GlobalMaxPool1D\n",
    "from keras.preprocessing.text import Tokenizer\n",
    "from keras.preprocessing.sequence import pad_sequences"
   ]
  },
  {
   "cell_type": "code",
   "execution_count": 108,
   "metadata": {},
   "outputs": [],
   "source": [
    "max_features = 30000\n",
    "maxlen = 25\n",
    "embedding_size = 200\n",
    "\n",
    "tokenizer = Tokenizer(num_words=max_features)\n",
    "tokenizer.fit_on_texts(list(train_df['text']))\n",
    "X = tokenizer.texts_to_sequences(list(train_df['text']))\n",
    "X = pad_sequences(X, maxlen = maxlen)\n",
    "y = train_df['target']"
   ]
  },
  {
   "cell_type": "code",
   "execution_count": 109,
   "metadata": {},
   "outputs": [],
   "source": [
    "EMBEDDING_FILE = '/Users/feihuyan/Downloads/glove.twitter.27B.200d.txt'\n",
    "def get_coefs(word,*arr): \n",
    "    return word, np.asarray(arr, dtype='float32')\n",
    "embeddings_index = dict(get_coefs(*o.split(\" \")) for o in open(EMBEDDING_FILE) if len(o)>100)\n",
    "\n",
    "all_embs = np.stack(embeddings_index.values())\n",
    "emb_mean,emb_std = all_embs.mean(), all_embs.std()\n",
    "embed_size = all_embs.shape[1]\n",
    "\n",
    "word_index = tokenizer.word_index\n",
    "nb_words = min(max_features, len(word_index))\n",
    "\n",
    "embedding_matrix = np.random.normal(emb_mean, emb_std, (nb_words, embedding_size))\n",
    "for word, i in word_index.items():\n",
    "    if i >= max_features: continue\n",
    "    embedding_vector = embeddings_index.get(word)\n",
    "    if embedding_vector is not None: embedding_matrix[i] = embedding_vector"
   ]
  },
  {
   "cell_type": "code",
   "execution_count": 114,
   "metadata": {},
   "outputs": [
    {
     "name": "stdout",
     "output_type": "stream",
     "text": [
      "Model: \"sequential_2\"\n",
      "_________________________________________________________________\n",
      "Layer (type)                 Output Shape              Param #   \n",
      "=================================================================\n",
      "embedding_2 (Embedding)      (None, None, 200)         6000000   \n",
      "_________________________________________________________________\n",
      "bidirectional_2 (Bidirection (None, None, 256)         336896    \n",
      "_________________________________________________________________\n",
      "global_max_pooling1d_2 (Glob (None, 256)               0         \n",
      "_________________________________________________________________\n",
      "dense_6 (Dense)              (None, 40)                10280     \n",
      "_________________________________________________________________\n",
      "dropout_4 (Dropout)          (None, 40)                0         \n",
      "_________________________________________________________________\n",
      "dense_7 (Dense)              (None, 20)                820       \n",
      "_________________________________________________________________\n",
      "dropout_5 (Dropout)          (None, 20)                0         \n",
      "_________________________________________________________________\n",
      "dense_8 (Dense)              (None, 1)                 21        \n",
      "=================================================================\n",
      "Total params: 6,348,017\n",
      "Trainable params: 6,348,017\n",
      "Non-trainable params: 0\n",
      "_________________________________________________________________\n"
     ]
    }
   ],
   "source": [
    "model = tf.keras.Sequential([\n",
    "    tf.keras.layers.Embedding(max_features, embedding_size, weights=[embedding_matrix]),\n",
    "    tf.keras.layers.Bidirectional(tf.keras.layers.LSTM(128,\n",
    "                                                      recurrent_dropout=0.5,\n",
    "                                                      return_sequences=True)),\n",
    "    tf.keras.layers.GlobalMaxPool1D(),\n",
    "    tf.keras.layers.Dense(40, activation='relu'),\n",
    "    tf.keras.layers.Dropout(0.5),\n",
    "    tf.keras.layers.Dense(20, activation='relu'),\n",
    "    tf.keras.layers.Dropout(0.5),    \n",
    "    tf.keras.layers.Dense(1, activation='sigmoid')\n",
    "])\n",
    "model.compile(loss='binary_crossentropy',optimizer='adam',metrics=['accuracy'])\n",
    "model.summary()"
   ]
  },
  {
   "cell_type": "code",
   "execution_count": 115,
   "metadata": {},
   "outputs": [
    {
     "name": "stdout",
     "output_type": "stream",
     "text": [
      "Epoch 1/4\n",
      "622/622 [==============================] - 97s 156ms/step - loss: 0.6170 - accuracy: 0.6493 - val_loss: 0.4767 - val_accuracy: 0.7587\n",
      "Epoch 2/4\n",
      "622/622 [==============================] - 101s 163ms/step - loss: 0.4524 - accuracy: 0.7919 - val_loss: 0.4292 - val_accuracy: 0.7896\n",
      "Epoch 3/4\n",
      "622/622 [==============================] - 105s 169ms/step - loss: 0.3669 - accuracy: 0.8393 - val_loss: 0.4411 - val_accuracy: 0.7948\n",
      "Epoch 4/4\n",
      "622/622 [==============================] - 99s 160ms/step - loss: 0.3133 - accuracy: 0.8663 - val_loss: 0.4721 - val_accuracy: 0.7891\n"
     ]
    }
   ],
   "source": [
    "batch_size = 100\n",
    "epochs = 4\n",
    "history = model.fit(X, y, batch_size=batch_size, epochs=epochs, validation_split=0.2)"
   ]
  },
  {
   "cell_type": "code",
   "execution_count": 116,
   "metadata": {},
   "outputs": [],
   "source": [
    "import GetOldTweets3 as got\n",
    "from tqdm import tqdm"
   ]
  },
  {
   "cell_type": "code",
   "execution_count": 117,
   "metadata": {},
   "outputs": [],
   "source": [
    "def get_tweet(senators, df, affiliation, num_tweet, begin_date, end_date):\n",
    "    for senator in tqdm(senators):\n",
    "        tweetCriteria = got.manager.TweetCriteria().setUsername(senator).setSince(begin_date).setUntil(end_date).setMaxTweets(num_tweet)\n",
    "        tweets = got.manager.TweetManager.getTweets(tweetCriteria)\n",
    "        for tweet in tweets:\n",
    "            dft = pd.DataFrame({'senator': senator,\n",
    "                               'text': tweet.text,\n",
    "                               'target': affiliation},index=[0])\n",
    "            df = df.append(dft, ignore_index=True)\n",
    "    return df"
   ]
  },
  {
   "cell_type": "code",
   "execution_count": 135,
   "metadata": {},
   "outputs": [],
   "source": [
    "def test_model(senator, num_tweet, begin_date, end_date, maxlen, model):\n",
    "    empty = pd.DataFrame({'senator': [],\n",
    "                          'text': [],\n",
    "                          'target': []}) \n",
    "    tweet = get_tweet(senator, empty, 0, num_tweet, begin_date, end_date)\n",
    "    tweet['text'] = tweet['text'].astype(str).apply(lambda x: text(x))\n",
    "    X = tokenizer.texts_to_sequences(list(tweet['text']))\n",
    "    X = pad_sequences(X, maxlen = maxlen)\n",
    "    pred = model.predict(X)  \n",
    "    var = 0\n",
    "    total = len(tweet)\n",
    "    for _ in pred:\n",
    "        if _ > 0.5:\n",
    "            var += 1\n",
    "    return var/total"
   ]
  },
  {
   "cell_type": "code",
   "execution_count": 159,
   "metadata": {},
   "outputs": [
    {
     "name": "stderr",
     "output_type": "stream",
     "text": [
      "100%|██████████| 13/13 [00:11<00:00,  1.18it/s]"
     ]
    },
    {
     "name": "stdout",
     "output_type": "stream",
     "text": [
      "0.7028571428571428\n"
     ]
    },
    {
     "name": "stderr",
     "output_type": "stream",
     "text": [
      "\n"
     ]
    }
   ],
   "source": [
    "print(test_model('BernieSanders', 50, '2018-01-01', '2018-08-11', 25, model))"
   ]
  },
  {
   "cell_type": "code",
   "execution_count": 156,
   "metadata": {},
   "outputs": [
    {
     "name": "stderr",
     "output_type": "stream",
     "text": [
      "100%|██████████| 14/14 [00:11<00:00,  1.18it/s]"
     ]
    },
    {
     "name": "stdout",
     "output_type": "stream",
     "text": [
      "0.7479892761394102\n"
     ]
    },
    {
     "name": "stderr",
     "output_type": "stream",
     "text": [
      "\n"
     ]
    }
   ],
   "source": [
    "print(test_model('RepJahanaHayes', 50, '2018-01-01', '2018-08-11', 25, model))"
   ]
  },
  {
   "cell_type": "code",
   "execution_count": 157,
   "metadata": {},
   "outputs": [
    {
     "name": "stderr",
     "output_type": "stream",
     "text": [
      "100%|██████████| 9/9 [00:13<00:00,  1.48s/it]"
     ]
    },
    {
     "name": "stdout",
     "output_type": "stream",
     "text": [
      "0.76\n"
     ]
    },
    {
     "name": "stderr",
     "output_type": "stream",
     "text": [
      "\n"
     ]
    }
   ],
   "source": [
    "print(test_model('mattgaetz', 50, '2018-01-01', '2018-08-11', 25, model))"
   ]
  },
  {
   "cell_type": "code",
   "execution_count": 158,
   "metadata": {
    "scrolled": true
   },
   "outputs": [
    {
     "name": "stderr",
     "output_type": "stream",
     "text": [
      "100%|██████████| 13/13 [00:09<00:00,  1.38it/s]\n"
     ]
    },
    {
     "name": "stdout",
     "output_type": "stream",
     "text": [
      "0.68\n"
     ]
    }
   ],
   "source": [
    "print(test_model('DrNealDunnFl2', 50, '2018-01-01', '2018-08-11', 25, model))"
   ]
  },
  {
   "cell_type": "code",
   "execution_count": 160,
   "metadata": {},
   "outputs": [
    {
     "name": "stderr",
     "output_type": "stream",
     "text": [
      "100%|██████████| 7/7 [00:05<00:00,  1.19it/s]"
     ]
    },
    {
     "name": "stdout",
     "output_type": "stream",
     "text": [
      "0.695\n"
     ]
    },
    {
     "name": "stderr",
     "output_type": "stream",
     "text": [
      "\n"
     ]
    }
   ],
   "source": [
    "print(test_model('ewarren', 50, '2018-01-01', '2018-08-11', 25, model))"
   ]
  },
  {
   "cell_type": "code",
   "execution_count": 162,
   "metadata": {},
   "outputs": [
    {
     "name": "stderr",
     "output_type": "stream",
     "text": [
      "100%|██████████| 15/15 [00:10<00:00,  1.46it/s]\n"
     ]
    },
    {
     "name": "stdout",
     "output_type": "stream",
     "text": [
      "0.73\n"
     ]
    }
   ],
   "source": [
    "print(test_model('RealDonaldTrump', 50, '2018-01-01', '2018-08-11', 25, model))"
   ]
  },
  {
   "cell_type": "code",
   "execution_count": 152,
   "metadata": {},
   "outputs": [
    {
     "data": {
      "image/png": "[encoded data removed]",
      "text/plain": [
       "<Figure size 432x288 with 1 Axes>"
      ]
     },
     "metadata": {
      "needs_background": "light"
     },
     "output_type": "display_data"
    },
    {
     "data": {
      "image/png": "[encoded data removed]",
      "text/plain": [
       "<Figure size 432x288 with 1 Axes>"
      ]
     },
     "metadata": {
      "needs_background": "light"
     },
     "output_type": "display_data"
    }
   ],
   "source": [
    "import matplotlib.pyplot as plt\n",
    "\n",
    "\n",
    "def plot_graphs(history, string):\n",
    "  plt.plot(history.history[string])\n",
    "  plt.plot(history.history['val_'+string])\n",
    "  plt.xlabel(\"Epochs\")\n",
    "  plt.ylabel(string)\n",
    "  plt.legend([string, 'val_'+string])\n",
    "  plt.show()\n",
    "  \n",
    "plot_graphs(history, \"accuracy\")\n",
    "plot_graphs(history, \"loss\")"
   ]
  },
  {
   "cell_type": "code",
   "execution_count": null,
   "metadata": {},
   "outputs": [],
   "source": []
  }
 ],
 "metadata": {
  "kernelspec": {
   "display_name": "Python 3",
   "language": "python",
   "name": "python3"
  },
  "language_info": {
   "codemirror_mode": {
    "name": "ipython",
    "version": 3
   },
   "file_extension": ".py",
   "mimetype": "text/x-python",
   "name": "python",
   "nbconvert_exporter": "python",
   "pygments_lexer": "ipython3",
   "version": "3.7.7"
  }
 },
 "nbformat": 4,
 "nbformat_minor": 4
}
